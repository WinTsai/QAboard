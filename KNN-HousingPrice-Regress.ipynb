{
 "cells": [
  {
   "cell_type": "code",
   "execution_count": 27,
   "metadata": {},
   "outputs": [
    {
     "data": {
      "image/png": "[encoded data removed]",
      "text/plain": [
       "<Figure size 432x288 with 1 Axes>"
      ]
     },
     "metadata": {
      "needs_background": "light"
     },
     "output_type": "display_data"
    }
   ],
   "source": [
    "'''KNN implemention'''\n",
    "from sklearn.model_selection import train_test_split\n",
    "from sklearn.neighbors import KNeighborsRegressor\n",
    "import numpy as np\n",
    "#import pandas as pd\n",
    "import matplotlib.pyplot as plt\n",
    "#import seaborn as sns\n",
    "from sklearn.preprocessing import StandardScaler\n",
    "from sklearn.metrics import r2_score\n",
    "\n",
    "#read in data\n",
    "darray = np.loadtxt('D:\\\\uidq1860\\\\Work-CJW\\\\LearningFiles\\\\BaDou\\\\Lesson_1\\\\1-code\\\\housingPrice\\\\housing.data.txt')\n",
    "colname = np.array(['CRIM','ZN','INDUS','CHAS','NOX','RM','AGE','DIS','RAD','TAX','PTRATIO','B','LSTAT','MEDV']).reshape(1,14)\n",
    "dat = np.concatenate((colname,darray),axis=0)\n",
    "\n",
    "#set train data and test data\n",
    "x_train, x_test, y_train, y_test = train_test_split(darray[:,0:12],darray[:,13],test_size=0.3,random_state=321)\n",
    "#Normalize characters values\n",
    "standardscaler = StandardScaler()\n",
    "standardscaler.fit(x_train,y_train)\n",
    "x_train_std = standardscaler.transform(x_train)\n",
    "x_test_std = standardscaler.transform(x_test)\n",
    "\n",
    "# establish KNN model and predicate the housing price\n",
    "knn_reg = KNeighborsRegressor()\n",
    "knn_reg.fit(x_train_std,y_train)\n",
    "y_pred = knn_reg.predict(x_test_std)\n",
    "#np.sqrt(mean_squared_error(y_test,y_pred))\n",
    "#evaluation\n",
    "r2_score(y_test,y_pred)\n",
    "\n",
    "#plot\n",
    "#plt.figure(figsize=(16,10),dpi=144)\n",
    "plt.scatter(y_pred,y_test)\n",
    "plt.xlabel('Prediction')\n",
    "plt.ylabel('Real value')\n",
    "plt.show()"
   ]
  },
  {
   "cell_type": "code",
   "execution_count": null,
   "metadata": {},
   "outputs": [],
   "source": []
  }
 ],
 "metadata": {
  "kernelspec": {
   "display_name": "Python 3",
   "language": "python",
   "name": "python3"
  },
  "language_info": {
   "codemirror_mode": {
    "name": "ipython",
    "version": 3
   },
   "file_extension": ".py",
   "mimetype": "text/x-python",
   "name": "python",
   "nbconvert_exporter": "python",
   "pygments_lexer": "ipython3",
   "version": "3.7.6"
  }
 },
 "nbformat": 4,
 "nbformat_minor": 4
}
